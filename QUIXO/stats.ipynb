{
 "cells": [
  {
   "cell_type": "code",
   "execution_count": 4,
   "metadata": {},
   "outputs": [],
   "source": [
    "from game import Game\n",
    "from main import RandomPlayer\n",
    "from minmax import MiniMaxPlayer\n",
    "from tqdm.auto import tqdm\n",
    "from interactive_player import InteractivePlayer"
   ]
  },
  {
   "cell_type": "markdown",
   "metadata": {},
   "source": [
    "# Interactive game against Ai or Random player"
   ]
  },
  {
   "cell_type": "code",
   "execution_count": 5,
   "metadata": {},
   "outputs": [],
   "source": [
    "while(1):\n",
    "    choose_2 = 0\n",
    "    choose_1 = input(\"Press Y if you wanna play, N if you don't:\")\n",
    "    if choose_1.upper() == \"Y\": \n",
    "        value = str(input(\"\"\"Press R if you wanna play against random, Press 1 against AI with depth 1, \n",
    "                          Press 2 against AI with depth 2, Press 3 against AI with depth 3, Press 4 against AI with depth 4:\"\"\"))\n",
    "        match(value.upper()):\n",
    "            case (\"R\"): \n",
    "                g = Game()\n",
    "                while choose_2 != 1 and choose_2 != 2:\n",
    "                    inp = str(input(\"Press 1 if you wanna play first, 2 if you wanna play second:\"))\n",
    "                    choose_2 = int(inp)\n",
    "                player1 = InteractivePlayer()\n",
    "                player2 = RandomPlayer()\n",
    "                if choose_2 == 1:\n",
    "                    winner = g.play(player1, player2, interactive = 1)\n",
    "                    if winner == 0:\n",
    "                        print(\"You won\")\n",
    "                    else:\n",
    "                        print(\"You lost\")\n",
    "                else:\n",
    "                    winner = g.play(player2, player1, interactive = 1)\n",
    "                    if winner == 1:\n",
    "                        print(\"You won\")\n",
    "                    else:\n",
    "                        print(\"You lost\")\n",
    "                \n",
    "            case (\"1\"):\n",
    "                g = Game()\n",
    "                while choose_2 != (1 or 2):\n",
    "                    inp = str(input(\"Press 1 if you wanna play first, 2 if you wanna play second:\"))\n",
    "                    choose_2 = int(inp)\n",
    "                player1 = InteractivePlayer()\n",
    "                player2 = MiniMaxPlayer(max_depth=1)\n",
    "                if choose_2 == 1:\n",
    "                    winner = g.play(player1, player2, interactive = 1)\n",
    "                    if winner == 0:\n",
    "                        print(\"You won\")\n",
    "                    else:\n",
    "                        print(\"You lost\")\n",
    "                else:\n",
    "                    winner = g.play(player2, player1, interactive = 1)\n",
    "                    if winner == 1:\n",
    "                        print(\"You won\")\n",
    "                    else:\n",
    "                        print(\"You lost\")\n",
    "                \n",
    "            case (\"2\"):\n",
    "                g = Game()\n",
    "                while choose_2 != (1 or 2):\n",
    "                    inp = str(input(\"Press 1 if you wanna play first, 2 if you wanna play second:\"))\n",
    "                    choose_2 = int(inp)\n",
    "                player1 = InteractivePlayer()\n",
    "                player2 = MiniMaxPlayer(max_depth=2)\n",
    "                if choose_2 == 1:\n",
    "                    winner = g.play(player1, player2, interactive = 1)\n",
    "                    if winner == 0:\n",
    "                        print(\"You won\")\n",
    "                    else:\n",
    "                        print(\"You lost\")\n",
    "                else:\n",
    "                    winner = g.play(player2, player1, interactive = 1)\n",
    "                    if winner == 1:\n",
    "                        print(\"You won\")\n",
    "                    else:\n",
    "                        print(\"You lost\")\n",
    "\n",
    "            case (\"3\"): \n",
    "                g = Game()\n",
    "                while choose_2 != (1 or 2):\n",
    "                    inp = str(input(\"Press 1 if you wanna play first, 2 if you wanna play second:\"))\n",
    "                    choose_2 = int(inp)\n",
    "                player1 = InteractivePlayer()\n",
    "                player2 = MiniMaxPlayer(max_depth=3)\n",
    "                if choose_2 == 1:\n",
    "                    winner = g.play(player1, player2, interactive = 1)\n",
    "                    if winner == 0:\n",
    "                        print(\"You won\")\n",
    "                    else:\n",
    "                        print(\"You lost\")\n",
    "                else:\n",
    "                    winner = g.play(player2, player1, interactive = 1)\n",
    "                    if winner == 1:\n",
    "                        print(\"You won\")\n",
    "                    else:\n",
    "                        print(\"You lost\")\n",
    "\n",
    "            case (\"4\"): \n",
    "                g = Game()\n",
    "                while choose_2 != (1 or 2):\n",
    "                    inp = str(input(\"Press 1 if you wanna play first, 2 if you wanna play second:\"))\n",
    "                    choose_2 = int(inp)\n",
    "                player1 = InteractivePlayer()\n",
    "                player2 = MiniMaxPlayer(max_depth=4)\n",
    "                if choose_2 == 1:\n",
    "                    winner = g.play(player1, player2, interactive = 1)\n",
    "                    if winner == 0:\n",
    "                        print(\"You won\")\n",
    "                    else:\n",
    "                        print(\"You lost\")\n",
    "                else:\n",
    "                    winner = g.play(player2, player1, interactive = 1)\n",
    "                    if winner == 1:\n",
    "                        print(\"You won\")\n",
    "                    else:\n",
    "                        print(\"You lost\")\n",
    "            \n",
    "            case default:\n",
    "                print(\"Choose one option\")\n",
    "                \n",
    "\n",
    "    elif choose_1.upper() == \"N\":\n",
    "        break\n",
    "    else:\n",
    "        print(\"Choose yes or not\")"
   ]
  },
  {
   "cell_type": "markdown",
   "metadata": {},
   "source": [
    "# Games to print stats against random player"
   ]
  },
  {
   "cell_type": "code",
   "execution_count": 9,
   "metadata": {},
   "outputs": [
    {
     "name": "stdout",
     "output_type": "stream",
     "text": [
      "Depth value: 1\n"
     ]
    },
    {
     "name": "stderr",
     "output_type": "stream",
     "text": [
      "Game 99: 100%|██████████| 100/100 [00:07<00:00, 13.11 game/s]\n"
     ]
    },
    {
     "name": "stdout",
     "output_type": "stream",
     "text": [
      "Random wins: 2\n",
      "MinMax wins: 98\n",
      "MinMax wins percentage: 98.0%\n",
      "Depth value: 2\n"
     ]
    },
    {
     "name": "stderr",
     "output_type": "stream",
     "text": [
      "Game 99: 100%|██████████| 100/100 [04:17<00:00,  2.57s/ game]\n"
     ]
    },
    {
     "name": "stdout",
     "output_type": "stream",
     "text": [
      "Random wins: 0\n",
      "MinMax wins: 100\n",
      "MinMax wins percentage: 100.0%\n",
      "Depth value: 3\n"
     ]
    },
    {
     "name": "stderr",
     "output_type": "stream",
     "text": [
      "Game 99: 100%|██████████| 100/100 [35:18<00:00, 21.18s/ game]"
     ]
    },
    {
     "name": "stdout",
     "output_type": "stream",
     "text": [
      "Random wins: 0\n",
      "MinMax wins: 100\n",
      "MinMax wins percentage: 100.0%\n"
     ]
    },
    {
     "name": "stderr",
     "output_type": "stream",
     "text": [
      "\n"
     ]
    }
   ],
   "source": [
    "n_draw = 0\n",
    "n_win_random = 0\n",
    "n_win_minmax = 0\n",
    "n_games = 100\n",
    "\n",
    "for depth in range(3):\n",
    "    \n",
    "    print(f'Depth value: {depth+1}')\n",
    "\n",
    "    with tqdm(range(n_games), unit=\" game\") as games:\n",
    "        for i in games:\n",
    "            games.set_description(f\"Game {i}\")\n",
    "            g = Game()\n",
    "            player1 = RandomPlayer()\n",
    "            player2 = MiniMaxPlayer(max_depth=depth)\n",
    "            if i % 2 == 0:\n",
    "                winner = g.play(player1, player2)\n",
    "                if winner == 0:\n",
    "                    n_win_random += 1\n",
    "                elif winner == 1:\n",
    "                    n_win_minmax += 1\n",
    "                elif winner == 5:\n",
    "                    n_draw += 1\n",
    "            else:\n",
    "                winner = g.play(player2, player1)\n",
    "                if winner == 1:\n",
    "                    n_win_random += 1\n",
    "                elif winner == 0:\n",
    "                    n_win_minmax += 1\n",
    "                elif winner == 5:\n",
    "                    n_draw += 1\n",
    "        \n",
    "        print(f'Random wins: {n_win_random}')\n",
    "        print(f'MinMax wins: {n_win_minmax}')\n",
    "        print(f'MinMax wins percentage: {(n_win_minmax/n_games)*100}%')\n",
    "    \n",
    "    n_win_random = 0\n",
    "    n_win_minmax = 0"
   ]
  },
  {
   "cell_type": "markdown",
   "metadata": {},
   "source": [
    "# Games to print stats AI against AI"
   ]
  },
  {
   "cell_type": "code",
   "execution_count": null,
   "metadata": {},
   "outputs": [
    {
     "name": "stdout",
     "output_type": "stream",
     "text": [
      "Minimax Algorithm  with depth value: 1\n",
      "Versus\n",
      "Minimax Algorithm  with depth value: 1\n"
     ]
    },
    {
     "name": "stderr",
     "output_type": "stream",
     "text": [
      "Game 1:  50%|█████     | 1/2 [00:00<00:00,  7.79 game/s]"
     ]
    },
    {
     "name": "stdout",
     "output_type": "stream",
     "text": [
      "Game finished in: 12 moves\n"
     ]
    },
    {
     "name": "stderr",
     "output_type": "stream",
     "text": [
      "Game 1: 100%|██████████| 2/2 [00:00<00:00,  8.12 game/s]\n"
     ]
    },
    {
     "name": "stdout",
     "output_type": "stream",
     "text": [
      "Game finished in: 12 moves\n",
      "Minimax Algorithm  with depth value: 1 wins 1\n",
      "Minimax Algorithm  with depth value: 1 wins 1\n",
      "Draws: 0\n",
      "\n",
      "Minimax Algorithm  with depth value: 1\n",
      "Versus\n",
      "Minimax Algorithm  with depth value: 2\n"
     ]
    },
    {
     "name": "stderr",
     "output_type": "stream",
     "text": [
      "Game 1:  50%|█████     | 1/2 [00:02<00:02,  2.49s/ game]"
     ]
    },
    {
     "name": "stdout",
     "output_type": "stream",
     "text": [
      "Game finished in: 16 moves\n"
     ]
    },
    {
     "name": "stderr",
     "output_type": "stream",
     "text": [
      "Game 1: 100%|██████████| 2/2 [00:05<00:00,  2.66s/ game]\n"
     ]
    },
    {
     "name": "stdout",
     "output_type": "stream",
     "text": [
      "Game finished in: 17 moves\n",
      "Minimax Algorithm  with depth value: 1 wins 0\n",
      "Minimax Algorithm  with depth value: 2 wins 2\n",
      "Draws: 0\n",
      "\n",
      "Minimax Algorithm  with depth value: 1\n",
      "Versus\n",
      "Minimax Algorithm  with depth value: 3\n"
     ]
    },
    {
     "name": "stderr",
     "output_type": "stream",
     "text": [
      "Game 1:  50%|█████     | 1/2 [00:26<00:26, 26.98s/ game]"
     ]
    },
    {
     "name": "stdout",
     "output_type": "stream",
     "text": [
      "Game finished in: 22 moves\n"
     ]
    },
    {
     "name": "stderr",
     "output_type": "stream",
     "text": [
      "Game 1: 100%|██████████| 2/2 [00:56<00:00, 28.07s/ game]\n"
     ]
    },
    {
     "name": "stdout",
     "output_type": "stream",
     "text": [
      "Game finished in: 19 moves\n",
      "Minimax Algorithm  with depth value: 1 wins 0\n",
      "Minimax Algorithm  with depth value: 3 wins 2\n",
      "Draws: 0\n",
      "\n",
      "Minimax Algorithm  with depth value: 2\n",
      "Versus\n",
      "Minimax Algorithm  with depth value: 2\n"
     ]
    },
    {
     "name": "stderr",
     "output_type": "stream",
     "text": [
      "Game 1:  50%|█████     | 1/2 [00:07<00:07,  7.82s/ game]"
     ]
    },
    {
     "name": "stdout",
     "output_type": "stream",
     "text": [
      "Game finished in: 35 moves\n"
     ]
    },
    {
     "name": "stderr",
     "output_type": "stream",
     "text": [
      "Game 1: 100%|██████████| 2/2 [00:15<00:00,  7.80s/ game]\n"
     ]
    },
    {
     "name": "stdout",
     "output_type": "stream",
     "text": [
      "Game finished in: 35 moves\n",
      "Minimax Algorithm  with depth value: 2 wins 1\n",
      "Minimax Algorithm  with depth value: 2 wins 1\n",
      "Draws: 0\n",
      "\n",
      "Minimax Algorithm  with depth value: 2\n",
      "Versus\n",
      "Minimax Algorithm  with depth value: 3\n"
     ]
    },
    {
     "name": "stderr",
     "output_type": "stream",
     "text": [
      "Game 1:  50%|█████     | 1/2 [00:50<00:50, 50.09s/ game]"
     ]
    },
    {
     "name": "stdout",
     "output_type": "stream",
     "text": [
      "Game finished in: 50 moves\n"
     ]
    },
    {
     "name": "stderr",
     "output_type": "stream",
     "text": [
      "Game 1: 100%|██████████| 2/2 [01:38<00:00, 49.31s/ game]\n"
     ]
    },
    {
     "name": "stdout",
     "output_type": "stream",
     "text": [
      "Game finished in: 50 moves\n",
      "Minimax Algorithm  with depth value: 2 wins 0\n",
      "Minimax Algorithm  with depth value: 3 wins 0\n",
      "Draws: 2\n",
      "\n",
      "Minimax Algorithm  with depth value: 3\n",
      "Versus\n",
      "Minimax Algorithm  with depth value: 3\n"
     ]
    },
    {
     "name": "stderr",
     "output_type": "stream",
     "text": [
      "Game 1:  50%|█████     | 1/2 [01:28<01:28, 88.19s/ game]"
     ]
    },
    {
     "name": "stdout",
     "output_type": "stream",
     "text": [
      "Game finished in: 46 moves\n"
     ]
    },
    {
     "name": "stderr",
     "output_type": "stream",
     "text": [
      "Game 1: 100%|██████████| 2/2 [02:57<00:00, 88.91s/ game]"
     ]
    },
    {
     "name": "stdout",
     "output_type": "stream",
     "text": [
      "Game finished in: 46 moves\n",
      "Minimax Algorithm  with depth value: 3 wins 0\n",
      "Minimax Algorithm  with depth value: 3 wins 0\n",
      "Draws: 2\n",
      "\n"
     ]
    },
    {
     "name": "stderr",
     "output_type": "stream",
     "text": [
      "\n"
     ]
    }
   ],
   "source": [
    "game = 2\n",
    "for depth_1 in range (3):\n",
    "    for depth_2 in range (depth_1,3):\n",
    "\n",
    "        n_draw = 0\n",
    "        n_win_depth_1 = 0\n",
    "        n_win_depth_2 = 0\n",
    "\n",
    "        print(f'Minimax Algorithm  with depth value: {depth_1+1}')\n",
    "        print(\"Versus\")\n",
    "        print(f'Minimax Algorithm  with depth value: {depth_2+1}')\n",
    "\n",
    "        with tqdm(range(game), unit=\" game\") as games:\n",
    "            for i in games:\n",
    "                games.set_description(f\"Game {i}\")\n",
    "                g = Game()\n",
    "                player1 = MiniMaxPlayer(max_depth=depth_1)\n",
    "                player2 = MiniMaxPlayer(max_depth=depth_2)\n",
    "                if i % 2 == 0:\n",
    "                    winner = g.play(player1, player2, interactive=2)\n",
    "                    if winner == 0:\n",
    "                        n_win_depth_1 += 1\n",
    "                    elif winner == 1:\n",
    "                        n_win_depth_2 += 1\n",
    "                    elif winner == 5:\n",
    "                        n_draw += 1\n",
    "                else:\n",
    "                    winner = g.play(player2, player1, interactive=2)\n",
    "                    if winner == 1:\n",
    "                        n_win_depth_1 += 1\n",
    "                    elif winner == 0:\n",
    "                        n_win_depth_2 += 1\n",
    "                    elif winner == 5:\n",
    "                        n_draw += 1\n",
    "            \n",
    "            print(f'Minimax Algorithm  with depth value: {depth_1+1} wins {n_win_depth_1}')\n",
    "            print(f'Minimax Algorithm  with depth value: {depth_2+1} wins {n_win_depth_2}')\n",
    "            print(f'Draws: {n_draw}')\n",
    "\n",
    "        n_win_depth_1 = 0\n",
    "        n_win_depth_2 = 0\n",
    "        n_draw = 0\n",
    "        print()"
   ]
  }
 ],
 "metadata": {
  "kernelspec": {
   "display_name": "venv",
   "language": "python",
   "name": "python3"
  },
  "language_info": {
   "codemirror_mode": {
    "name": "ipython",
    "version": 3
   },
   "file_extension": ".py",
   "mimetype": "text/x-python",
   "name": "python",
   "nbconvert_exporter": "python",
   "pygments_lexer": "ipython3",
   "version": "3.12.0"
  }
 },
 "nbformat": 4,
 "nbformat_minor": 2
}
